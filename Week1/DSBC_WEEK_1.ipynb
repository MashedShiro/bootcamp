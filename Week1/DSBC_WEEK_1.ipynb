{
  "nbformat": 4,
  "nbformat_minor": 0,
  "metadata": {
    "colab": {
      "provenance": []
    },
    "kernelspec": {
      "name": "python3",
      "display_name": "Python 3"
    },
    "language_info": {
      "name": "python"
    }
  },
  "cells": [
    {
      "cell_type": "code",
      "execution_count": null,
      "metadata": {
        "id": "JB3NIaljKR4-"
      },
      "outputs": [],
      "source": [
        "#1. Write a program that takes a word as an input and print the number of vowels in the word.\n",
        "#2. Iterate through the following list of animals and print each one in all caps.\n",
        "\n",
        "  #animals=['tiger', 'elephant', 'monkey', 'zebra', 'panther']\n",
        "\n",
        "#3. Write a program that iterates from 1 to 20, printing each number and whether it's odd or even.\n",
        "#4. Write a program to check if a string is a palindrome or not.\n",
        "#5. Write a function sum_of_integers(a, b) that takes two integers as input from the user and returns their sum. (optional)"
      ]
    },
    {
      "cell_type": "code",
      "source": [
        "#1\n",
        "word = input('')\n",
        "vowel_count=0\n",
        "vowels='aeiouAEIOU'\n",
        "for x in word:\n",
        "  if x in vowels:\n",
        "    vowel_count=+1\n",
        "    print(f'The number of vowels in the word is: {vowel_count}')"
      ],
      "metadata": {
        "colab": {
          "base_uri": "https://localhost:8080/"
        },
        "id": "ndt43RaxKlo3",
        "outputId": "d217b43f-b62d-4392-e438-4ad5d8efa378"
      },
      "execution_count": 10,
      "outputs": [
        {
          "output_type": "stream",
          "name": "stdout",
          "text": [
            "hi\n",
            "The number of vowels in the word is: 1\n"
          ]
        }
      ]
    },
    {
      "cell_type": "code",
      "source": [
        "#2\n",
        "animals= [\"tiger\", \"elephant\", \"monkey\",\"zebra\",\"panther\"]\n",
        "for x in animals:\n",
        "  print(animal.upper())"
      ],
      "metadata": {
        "colab": {
          "base_uri": "https://localhost:8080/"
        },
        "id": "Gi6YxJTyO_rc",
        "outputId": "0c348f19-c114-46dd-8337-4a5f2774abee"
      },
      "execution_count": 12,
      "outputs": [
        {
          "output_type": "stream",
          "name": "stdout",
          "text": [
            "TIGER\n",
            "ELEPHANT\n",
            "MONKEY\n",
            "ZEBRA\n",
            "PANTHER\n"
          ]
        }
      ]
    },
    {
      "cell_type": "code",
      "source": [
        "#3\n",
        "numbers = {'odd':[1,3,5,7,9,11,13,15,17,19],'even':[2,4,6,8,10,12,14,16,18,20]}\n",
        "print(numbers['odd'])"
      ],
      "metadata": {
        "colab": {
          "base_uri": "https://localhost:8080/"
        },
        "id": "0En3NP-kQXUx",
        "outputId": "b2842c27-115c-4d50-d435-8000d21f86df"
      },
      "execution_count": 22,
      "outputs": [
        {
          "output_type": "stream",
          "name": "stdout",
          "text": [
            "1 is odd\n",
            "2 is even\n",
            "3 is odd\n",
            "4 is even\n",
            "5 is odd\n",
            "6 is even\n",
            "7 is odd\n",
            "8 is even\n",
            "9 is odd\n",
            "10 is even\n",
            "11 is odd\n",
            "12 is even\n",
            "13 is odd\n",
            "14 is even\n",
            "15 is odd\n",
            "16 is even\n",
            "17 is odd\n",
            "18 is even\n",
            "19 is odd\n",
            "20 is even\n"
          ]
        }
      ]
    },
    {
      "cell_type": "code",
      "source": [
        "#3\n",
        "numbers = {'odd':[1,3,5,7,9,11,13,15,17,19],'even':[2,4,6,8,10,12,14,16,18,20]}\n",
        "\n",
        "for i in range(1, 21): # Iterate from 1 to 20\n",
        "  if i in numbers['odd']:\n",
        "    print(f\"{i} is odd\")\n",
        "  elif i in numbers['even']:\n",
        "    print(f\"{i} is even\")"
      ],
      "metadata": {
        "colab": {
          "base_uri": "https://localhost:8080/"
        },
        "id": "8TtSxXDmRetX",
        "outputId": "f4805202-2144-48f1-855a-ec4a8c0da2cb"
      },
      "execution_count": 32,
      "outputs": [
        {
          "output_type": "stream",
          "name": "stdout",
          "text": [
            "1 is odd\n",
            "2 is even\n",
            "3 is odd\n",
            "4 is even\n",
            "5 is odd\n",
            "6 is even\n",
            "7 is odd\n",
            "8 is even\n",
            "9 is odd\n",
            "10 is even\n",
            "11 is odd\n",
            "12 is even\n",
            "13 is odd\n",
            "14 is even\n",
            "15 is odd\n",
            "16 is even\n",
            "17 is odd\n",
            "18 is even\n",
            "19 is odd\n",
            "20 is even\n"
          ]
        }
      ]
    },
    {
      "cell_type": "code",
      "source": [
        "#4\n",
        "word = input(\"Please enter\")\n",
        "if word== word[::-1]:\n",
        "  print(f'{word} is a palindrome')\n",
        "else:\n",
        "  print(f'{word} is not a palindrome')"
      ],
      "metadata": {
        "colab": {
          "base_uri": "https://localhost:8080/"
        },
        "id": "qq6aOSSnUAkU",
        "outputId": "c545e7a3-bead-4269-b876-774ed961731d"
      },
      "execution_count": 34,
      "outputs": [
        {
          "output_type": "stream",
          "name": "stdout",
          "text": [
            "Please entermeow\n",
            "meow is not a palindrome\n"
          ]
        }
      ]
    },
    {
      "cell_type": "code",
      "source": [],
      "metadata": {
        "id": "-BppePWrWotx"
      },
      "execution_count": null,
      "outputs": []
    }
  ]
}