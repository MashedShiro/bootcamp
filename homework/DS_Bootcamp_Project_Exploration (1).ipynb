{
  "nbformat": 4,
  "nbformat_minor": 0,
  "metadata": {
    "colab": {
      "provenance": []
    },
    "kernelspec": {
      "name": "python3",
      "display_name": "Python 3"
    },
    "language_info": {
      "name": "python"
    }
  },
  "cells": [
    {
      "cell_type": "code",
      "execution_count": null,
      "metadata": {
        "id": "2RnZGhzN9IE3"
      },
      "outputs": [],
      "source": [
        "import pandas as pd\n",
        "import numpy as np\n",
        "import matplotlib.pyplot as plt\n",
        "import seaborn as sns\n",
        "import warnings\n",
        "warnings.filterwarnings('ignore')"
      ]
    },
    {
      "cell_type": "code",
      "source": [
        "from google.colab import files\n",
        "import io\n",
        "uploaded = files.upload()\n",
        "filename = next(iter(uploaded))\n",
        "df = pd.read_csv(io.BytesIO(uploaded[filename]), encoding='latin1')"
      ],
      "metadata": {
        "colab": {
          "base_uri": "https://localhost:8080/",
          "height": 73
        },
        "id": "aErfEM299Xxc",
        "outputId": "6741e34a-786a-497d-943f-7742f9b57543"
      },
      "execution_count": null,
      "outputs": [
        {
          "output_type": "display_data",
          "data": {
            "text/plain": [
              "<IPython.core.display.HTML object>"
            ],
            "text/html": [
              "\n",
              "     <input type=\"file\" id=\"files-02a023e9-2a3f-48c3-9238-2202b323db5b\" name=\"files[]\" multiple disabled\n",
              "        style=\"border:none\" />\n",
              "     <output id=\"result-02a023e9-2a3f-48c3-9238-2202b323db5b\">\n",
              "      Upload widget is only available when the cell has been executed in the\n",
              "      current browser session. Please rerun this cell to enable.\n",
              "      </output>\n",
              "      <script>// Copyright 2017 Google LLC\n",
              "//\n",
              "// Licensed under the Apache License, Version 2.0 (the \"License\");\n",
              "// you may not use this file except in compliance with the License.\n",
              "// You may obtain a copy of the License at\n",
              "//\n",
              "//      http://www.apache.org/licenses/LICENSE-2.0\n",
              "//\n",
              "// Unless required by applicable law or agreed to in writing, software\n",
              "// distributed under the License is distributed on an \"AS IS\" BASIS,\n",
              "// WITHOUT WARRANTIES OR CONDITIONS OF ANY KIND, either express or implied.\n",
              "// See the License for the specific language governing permissions and\n",
              "// limitations under the License.\n",
              "\n",
              "/**\n",
              " * @fileoverview Helpers for google.colab Python module.\n",
              " */\n",
              "(function(scope) {\n",
              "function span(text, styleAttributes = {}) {\n",
              "  const element = document.createElement('span');\n",
              "  element.textContent = text;\n",
              "  for (const key of Object.keys(styleAttributes)) {\n",
              "    element.style[key] = styleAttributes[key];\n",
              "  }\n",
              "  return element;\n",
              "}\n",
              "\n",
              "// Max number of bytes which will be uploaded at a time.\n",
              "const MAX_PAYLOAD_SIZE = 100 * 1024;\n",
              "\n",
              "function _uploadFiles(inputId, outputId) {\n",
              "  const steps = uploadFilesStep(inputId, outputId);\n",
              "  const outputElement = document.getElementById(outputId);\n",
              "  // Cache steps on the outputElement to make it available for the next call\n",
              "  // to uploadFilesContinue from Python.\n",
              "  outputElement.steps = steps;\n",
              "\n",
              "  return _uploadFilesContinue(outputId);\n",
              "}\n",
              "\n",
              "// This is roughly an async generator (not supported in the browser yet),\n",
              "// where there are multiple asynchronous steps and the Python side is going\n",
              "// to poll for completion of each step.\n",
              "// This uses a Promise to block the python side on completion of each step,\n",
              "// then passes the result of the previous step as the input to the next step.\n",
              "function _uploadFilesContinue(outputId) {\n",
              "  const outputElement = document.getElementById(outputId);\n",
              "  const steps = outputElement.steps;\n",
              "\n",
              "  const next = steps.next(outputElement.lastPromiseValue);\n",
              "  return Promise.resolve(next.value.promise).then((value) => {\n",
              "    // Cache the last promise value to make it available to the next\n",
              "    // step of the generator.\n",
              "    outputElement.lastPromiseValue = value;\n",
              "    return next.value.response;\n",
              "  });\n",
              "}\n",
              "\n",
              "/**\n",
              " * Generator function which is called between each async step of the upload\n",
              " * process.\n",
              " * @param {string} inputId Element ID of the input file picker element.\n",
              " * @param {string} outputId Element ID of the output display.\n",
              " * @return {!Iterable<!Object>} Iterable of next steps.\n",
              " */\n",
              "function* uploadFilesStep(inputId, outputId) {\n",
              "  const inputElement = document.getElementById(inputId);\n",
              "  inputElement.disabled = false;\n",
              "\n",
              "  const outputElement = document.getElementById(outputId);\n",
              "  outputElement.innerHTML = '';\n",
              "\n",
              "  const pickedPromise = new Promise((resolve) => {\n",
              "    inputElement.addEventListener('change', (e) => {\n",
              "      resolve(e.target.files);\n",
              "    });\n",
              "  });\n",
              "\n",
              "  const cancel = document.createElement('button');\n",
              "  inputElement.parentElement.appendChild(cancel);\n",
              "  cancel.textContent = 'Cancel upload';\n",
              "  const cancelPromise = new Promise((resolve) => {\n",
              "    cancel.onclick = () => {\n",
              "      resolve(null);\n",
              "    };\n",
              "  });\n",
              "\n",
              "  // Wait for the user to pick the files.\n",
              "  const files = yield {\n",
              "    promise: Promise.race([pickedPromise, cancelPromise]),\n",
              "    response: {\n",
              "      action: 'starting',\n",
              "    }\n",
              "  };\n",
              "\n",
              "  cancel.remove();\n",
              "\n",
              "  // Disable the input element since further picks are not allowed.\n",
              "  inputElement.disabled = true;\n",
              "\n",
              "  if (!files) {\n",
              "    return {\n",
              "      response: {\n",
              "        action: 'complete',\n",
              "      }\n",
              "    };\n",
              "  }\n",
              "\n",
              "  for (const file of files) {\n",
              "    const li = document.createElement('li');\n",
              "    li.append(span(file.name, {fontWeight: 'bold'}));\n",
              "    li.append(span(\n",
              "        `(${file.type || 'n/a'}) - ${file.size} bytes, ` +\n",
              "        `last modified: ${\n",
              "            file.lastModifiedDate ? file.lastModifiedDate.toLocaleDateString() :\n",
              "                                    'n/a'} - `));\n",
              "    const percent = span('0% done');\n",
              "    li.appendChild(percent);\n",
              "\n",
              "    outputElement.appendChild(li);\n",
              "\n",
              "    const fileDataPromise = new Promise((resolve) => {\n",
              "      const reader = new FileReader();\n",
              "      reader.onload = (e) => {\n",
              "        resolve(e.target.result);\n",
              "      };\n",
              "      reader.readAsArrayBuffer(file);\n",
              "    });\n",
              "    // Wait for the data to be ready.\n",
              "    let fileData = yield {\n",
              "      promise: fileDataPromise,\n",
              "      response: {\n",
              "        action: 'continue',\n",
              "      }\n",
              "    };\n",
              "\n",
              "    // Use a chunked sending to avoid message size limits. See b/62115660.\n",
              "    let position = 0;\n",
              "    do {\n",
              "      const length = Math.min(fileData.byteLength - position, MAX_PAYLOAD_SIZE);\n",
              "      const chunk = new Uint8Array(fileData, position, length);\n",
              "      position += length;\n",
              "\n",
              "      const base64 = btoa(String.fromCharCode.apply(null, chunk));\n",
              "      yield {\n",
              "        response: {\n",
              "          action: 'append',\n",
              "          file: file.name,\n",
              "          data: base64,\n",
              "        },\n",
              "      };\n",
              "\n",
              "      let percentDone = fileData.byteLength === 0 ?\n",
              "          100 :\n",
              "          Math.round((position / fileData.byteLength) * 100);\n",
              "      percent.textContent = `${percentDone}% done`;\n",
              "\n",
              "    } while (position < fileData.byteLength);\n",
              "  }\n",
              "\n",
              "  // All done.\n",
              "  yield {\n",
              "    response: {\n",
              "      action: 'complete',\n",
              "    }\n",
              "  };\n",
              "}\n",
              "\n",
              "scope.google = scope.google || {};\n",
              "scope.google.colab = scope.google.colab || {};\n",
              "scope.google.colab._files = {\n",
              "  _uploadFiles,\n",
              "  _uploadFilesContinue,\n",
              "};\n",
              "})(self);\n",
              "</script> "
            ]
          },
          "metadata": {}
        },
        {
          "output_type": "stream",
          "name": "stdout",
          "text": [
            "Saving finance_economics_dataset.csv to finance_economics_dataset (5).csv\n"
          ]
        }
      ]
    },
    {
      "cell_type": "code",
      "metadata": {
        "colab": {
          "base_uri": "https://localhost:8080/"
        },
        "id": "5818c5f5",
        "outputId": "7f173a7f-dfdc-4b37-928d-14e535e9e50e"
      },
      "source": [
        "df['Date'] = pd.to_datetime(df['Date'])\n",
        "print(\"\\n🔹 Data Types after converting 'Date' column:\")\n",
        "print(df.info())"
      ],
      "execution_count": null,
      "outputs": [
        {
          "output_type": "stream",
          "name": "stdout",
          "text": [
            "\n",
            "🔹 Data Types after converting 'Date' column:\n",
            "<class 'pandas.core.frame.DataFrame'>\n",
            "RangeIndex: 3000 entries, 0 to 2999\n",
            "Data columns (total 24 columns):\n",
            " #   Column                                 Non-Null Count  Dtype         \n",
            "---  ------                                 --------------  -----         \n",
            " 0   Date                                   3000 non-null   datetime64[ns]\n",
            " 1   Stock Index                            3000 non-null   object        \n",
            " 2   Open Price                             3000 non-null   float64       \n",
            " 3   Close Price                            3000 non-null   float64       \n",
            " 4   Daily High                             3000 non-null   float64       \n",
            " 5   Daily Low                              3000 non-null   float64       \n",
            " 6   Trading Volume                         3000 non-null   int64         \n",
            " 7   GDP Growth (%)                         3000 non-null   float64       \n",
            " 8   Inflation Rate (%)                     3000 non-null   float64       \n",
            " 9   Unemployment Rate (%)                  3000 non-null   float64       \n",
            " 10  Interest Rate (%)                      3000 non-null   float64       \n",
            " 11  Consumer Confidence Index              3000 non-null   int64         \n",
            " 12  Government Debt (Billion USD)          3000 non-null   int64         \n",
            " 13  Corporate Profits (Billion USD)        3000 non-null   int64         \n",
            " 14  Forex USD/EUR                          3000 non-null   float64       \n",
            " 15  Forex USD/JPY                          3000 non-null   float64       \n",
            " 16  Crude Oil Price (USD per Barrel)       3000 non-null   float64       \n",
            " 17  Gold Price (USD per Ounce)             3000 non-null   float64       \n",
            " 18  Real Estate Index                      3000 non-null   float64       \n",
            " 19  Retail Sales (Billion USD)             3000 non-null   int64         \n",
            " 20  Bankruptcy Rate (%)                    3000 non-null   float64       \n",
            " 21  Mergers & Acquisitions Deals           3000 non-null   int64         \n",
            " 22  Venture Capital Funding (Billion USD)  3000 non-null   float64       \n",
            " 23  Consumer Spending (Billion USD)        3000 non-null   int64         \n",
            "dtypes: datetime64[ns](1), float64(15), int64(7), object(1)\n",
            "memory usage: 562.6+ KB\n",
            "None\n"
          ]
        }
      ]
    },
    {
      "cell_type": "code",
      "source": [
        "print(\"🔹 First 5 rows:\")\n",
        "print(df.head())\n",
        "print(\"\\n🔹 Dataset Shape (rows, columns):\")\n",
        "print(df.shape)\n",
        "print(\"\\n🔹 Column Names:\")\n",
        "print(df.columns.tolist())\n",
        "print(\"\\n🔹 Data Info:\")\n",
        "print(df.info())"
      ],
      "metadata": {
        "colab": {
          "base_uri": "https://localhost:8080/"
        },
        "id": "aaB0f3Za9YS7",
        "outputId": "72cfecb0-c303-4488-971c-7186280acd59"
      },
      "execution_count": null,
      "outputs": [
        {
          "output_type": "stream",
          "name": "stdout",
          "text": [
            "🔹 First 5 rows:\n",
            "        Date Stock Index  Open Price  Close Price  Daily High  Daily Low  \\\n",
            "0 2000-01-01   Dow Jones     2128.75      2138.48     2143.70    2100.55   \n",
            "1 2000-01-02     S&P 500     2046.82      2036.18     2082.83    2009.53   \n",
            "2 2000-01-03   Dow Jones     1987.92      1985.26     2022.28    1978.37   \n",
            "3 2000-01-04   Dow Jones     4625.02      4660.47     4665.26    4595.46   \n",
            "4 2000-01-05     S&P 500     1998.18      1982.18     2044.31    1966.44   \n",
            "\n",
            "   Trading Volume  GDP Growth (%)  Inflation Rate (%)  Unemployment Rate (%)  \\\n",
            "0         2670411           -0.37                6.06                   6.10   \n",
            "1       690220415            3.19                4.95                   6.62   \n",
            "2       315284661            5.54                9.13                   2.60   \n",
            "3        13098297           10.00                3.77                   2.20   \n",
            "4       385306746            1.53                2.20                   8.20   \n",
            "\n",
            "   ...  Forex USD/EUR  Forex USD/JPY  Crude Oil Price (USD per Barrel)  \\\n",
            "0  ...           1.04         119.87                             47.20   \n",
            "1  ...           1.00          98.22                             52.84   \n",
            "2  ...           0.83          80.13                             78.80   \n",
            "3  ...           0.95         149.15                             28.18   \n",
            "4  ...           1.43         113.71                             92.20   \n",
            "\n",
            "   Gold Price (USD per Ounce)  Real Estate Index  Retail Sales (Billion USD)  \\\n",
            "0                     1052.34             390.23                        2229   \n",
            "1                     1957.73             346.23                        4156   \n",
            "2                     2339.49             439.46                         340   \n",
            "3                     1308.54             213.07                        8456   \n",
            "4                     2210.08             405.49                        1596   \n",
            "\n",
            "   Bankruptcy Rate (%)  Mergers & Acquisitions Deals  \\\n",
            "0                 2.12                             3   \n",
            "1                 1.40                            21   \n",
            "2                 0.79                            48   \n",
            "3                 4.22                            16   \n",
            "4                 2.21                            34   \n",
            "\n",
            "   Venture Capital Funding (Billion USD)  Consumer Spending (Billion USD)  \n",
            "0                                  76.64                             4589  \n",
            "1                                   5.67                            10101  \n",
            "2                                  39.43                            13665  \n",
            "3                                  12.83                             5192  \n",
            "4                                  86.37                            10688  \n",
            "\n",
            "[5 rows x 24 columns]\n",
            "\n",
            "🔹 Dataset Shape (rows, columns):\n",
            "(3000, 24)\n",
            "\n",
            "🔹 Column Names:\n",
            "['Date', 'Stock Index', 'Open Price', 'Close Price', 'Daily High', 'Daily Low', 'Trading Volume', 'GDP Growth (%)', 'Inflation Rate (%)', 'Unemployment Rate (%)', 'Interest Rate (%)', 'Consumer Confidence Index', 'Government Debt (Billion USD)', 'Corporate Profits (Billion USD)', 'Forex USD/EUR', 'Forex USD/JPY', 'Crude Oil Price (USD per Barrel)', 'Gold Price (USD per Ounce)', 'Real Estate Index', 'Retail Sales (Billion USD)', 'Bankruptcy Rate (%)', 'Mergers & Acquisitions Deals', 'Venture Capital Funding (Billion USD)', 'Consumer Spending (Billion USD)']\n",
            "\n",
            "🔹 Data Info:\n",
            "<class 'pandas.core.frame.DataFrame'>\n",
            "RangeIndex: 3000 entries, 0 to 2999\n",
            "Data columns (total 24 columns):\n",
            " #   Column                                 Non-Null Count  Dtype         \n",
            "---  ------                                 --------------  -----         \n",
            " 0   Date                                   3000 non-null   datetime64[ns]\n",
            " 1   Stock Index                            3000 non-null   object        \n",
            " 2   Open Price                             3000 non-null   float64       \n",
            " 3   Close Price                            3000 non-null   float64       \n",
            " 4   Daily High                             3000 non-null   float64       \n",
            " 5   Daily Low                              3000 non-null   float64       \n",
            " 6   Trading Volume                         3000 non-null   int64         \n",
            " 7   GDP Growth (%)                         3000 non-null   float64       \n",
            " 8   Inflation Rate (%)                     3000 non-null   float64       \n",
            " 9   Unemployment Rate (%)                  3000 non-null   float64       \n",
            " 10  Interest Rate (%)                      3000 non-null   float64       \n",
            " 11  Consumer Confidence Index              3000 non-null   int64         \n",
            " 12  Government Debt (Billion USD)          3000 non-null   int64         \n",
            " 13  Corporate Profits (Billion USD)        3000 non-null   int64         \n",
            " 14  Forex USD/EUR                          3000 non-null   float64       \n",
            " 15  Forex USD/JPY                          3000 non-null   float64       \n",
            " 16  Crude Oil Price (USD per Barrel)       3000 non-null   float64       \n",
            " 17  Gold Price (USD per Ounce)             3000 non-null   float64       \n",
            " 18  Real Estate Index                      3000 non-null   float64       \n",
            " 19  Retail Sales (Billion USD)             3000 non-null   int64         \n",
            " 20  Bankruptcy Rate (%)                    3000 non-null   float64       \n",
            " 21  Mergers & Acquisitions Deals           3000 non-null   int64         \n",
            " 22  Venture Capital Funding (Billion USD)  3000 non-null   float64       \n",
            " 23  Consumer Spending (Billion USD)        3000 non-null   int64         \n",
            "dtypes: datetime64[ns](1), float64(15), int64(7), object(1)\n",
            "memory usage: 562.6+ KB\n",
            "None\n"
          ]
        }
      ]
    },
    {
      "cell_type": "code",
      "source": [
        "print(\"\\n🔹 Shape of the Dataset (rows, columns):\")\n",
        "print(df.shape)\n",
        "print(\"\\n🔹 Column Names:\")\n",
        "print(df.columns.tolist())\n",
        "print(\"\\n🔹 Data Types and Non-null Counts:\")\n",
        "print(df.info())"
      ],
      "metadata": {
        "colab": {
          "base_uri": "https://localhost:8080/"
        },
        "id": "rHJym4Vw-lh6",
        "outputId": "b633db15-3e98-40fa-8845-3ec07af78e79"
      },
      "execution_count": null,
      "outputs": [
        {
          "output_type": "stream",
          "name": "stdout",
          "text": [
            "\n",
            "🔹 Shape of the Dataset (rows, columns):\n",
            "(3000, 24)\n",
            "\n",
            "🔹 Column Names:\n",
            "['Date', 'Stock Index', 'Open Price', 'Close Price', 'Daily High', 'Daily Low', 'Trading Volume', 'GDP Growth (%)', 'Inflation Rate (%)', 'Unemployment Rate (%)', 'Interest Rate (%)', 'Consumer Confidence Index', 'Government Debt (Billion USD)', 'Corporate Profits (Billion USD)', 'Forex USD/EUR', 'Forex USD/JPY', 'Crude Oil Price (USD per Barrel)', 'Gold Price (USD per Ounce)', 'Real Estate Index', 'Retail Sales (Billion USD)', 'Bankruptcy Rate (%)', 'Mergers & Acquisitions Deals', 'Venture Capital Funding (Billion USD)', 'Consumer Spending (Billion USD)']\n",
            "\n",
            "🔹 Data Types and Non-null Counts:\n",
            "<class 'pandas.core.frame.DataFrame'>\n",
            "RangeIndex: 3000 entries, 0 to 2999\n",
            "Data columns (total 24 columns):\n",
            " #   Column                                 Non-Null Count  Dtype         \n",
            "---  ------                                 --------------  -----         \n",
            " 0   Date                                   3000 non-null   datetime64[ns]\n",
            " 1   Stock Index                            3000 non-null   object        \n",
            " 2   Open Price                             3000 non-null   float64       \n",
            " 3   Close Price                            3000 non-null   float64       \n",
            " 4   Daily High                             3000 non-null   float64       \n",
            " 5   Daily Low                              3000 non-null   float64       \n",
            " 6   Trading Volume                         3000 non-null   int64         \n",
            " 7   GDP Growth (%)                         3000 non-null   float64       \n",
            " 8   Inflation Rate (%)                     3000 non-null   float64       \n",
            " 9   Unemployment Rate (%)                  3000 non-null   float64       \n",
            " 10  Interest Rate (%)                      3000 non-null   float64       \n",
            " 11  Consumer Confidence Index              3000 non-null   int64         \n",
            " 12  Government Debt (Billion USD)          3000 non-null   int64         \n",
            " 13  Corporate Profits (Billion USD)        3000 non-null   int64         \n",
            " 14  Forex USD/EUR                          3000 non-null   float64       \n",
            " 15  Forex USD/JPY                          3000 non-null   float64       \n",
            " 16  Crude Oil Price (USD per Barrel)       3000 non-null   float64       \n",
            " 17  Gold Price (USD per Ounce)             3000 non-null   float64       \n",
            " 18  Real Estate Index                      3000 non-null   float64       \n",
            " 19  Retail Sales (Billion USD)             3000 non-null   int64         \n",
            " 20  Bankruptcy Rate (%)                    3000 non-null   float64       \n",
            " 21  Mergers & Acquisitions Deals           3000 non-null   int64         \n",
            " 22  Venture Capital Funding (Billion USD)  3000 non-null   float64       \n",
            " 23  Consumer Spending (Billion USD)        3000 non-null   int64         \n",
            "dtypes: datetime64[ns](1), float64(15), int64(7), object(1)\n",
            "memory usage: 562.6+ KB\n",
            "None\n"
          ]
        }
      ]
    },
    {
      "cell_type": "code",
      "source": [
        "print(\"\\n🔹 Missing Values in Each Column:\")\n",
        "print(df.isnull().sum())"
      ],
      "metadata": {
        "colab": {
          "base_uri": "https://localhost:8080/"
        },
        "id": "iZM9oX5B-mLV",
        "outputId": "12d6aef4-b287-444a-9de8-5f222438f9d3"
      },
      "execution_count": null,
      "outputs": [
        {
          "output_type": "stream",
          "name": "stdout",
          "text": [
            "\n",
            "🔹 Missing Values in Each Column:\n",
            "Date                                     0\n",
            "Stock Index                              0\n",
            "Open Price                               0\n",
            "Close Price                              0\n",
            "Daily High                               0\n",
            "Daily Low                                0\n",
            "Trading Volume                           0\n",
            "GDP Growth (%)                           0\n",
            "Inflation Rate (%)                       0\n",
            "Unemployment Rate (%)                    0\n",
            "Interest Rate (%)                        0\n",
            "Consumer Confidence Index                0\n",
            "Government Debt (Billion USD)            0\n",
            "Corporate Profits (Billion USD)          0\n",
            "Forex USD/EUR                            0\n",
            "Forex USD/JPY                            0\n",
            "Crude Oil Price (USD per Barrel)         0\n",
            "Gold Price (USD per Ounce)               0\n",
            "Real Estate Index                        0\n",
            "Retail Sales (Billion USD)               0\n",
            "Bankruptcy Rate (%)                      0\n",
            "Mergers & Acquisitions Deals             0\n",
            "Venture Capital Funding (Billion USD)    0\n",
            "Consumer Spending (Billion USD)          0\n",
            "dtype: int64\n"
          ]
        }
      ]
    },
    {
      "cell_type": "code",
      "source": [
        "print(\"\\n🔹 Summary Statistics:\")\n",
        "print(df.describe())"
      ],
      "metadata": {
        "colab": {
          "base_uri": "https://localhost:8080/"
        },
        "id": "zcE3gjza-p6v",
        "outputId": "b3704958-31ad-4e7b-c377-e48cc9faf8bf"
      },
      "execution_count": null,
      "outputs": [
        {
          "output_type": "stream",
          "name": "stdout",
          "text": [
            "\n",
            "🔹 Summary Statistics:\n",
            "                                Date   Open Price  Close Price   Daily High  \\\n",
            "count                           3000  3000.000000  3000.000000  3000.000000   \n",
            "mean   2004-02-08 11:59:59.999999872  2982.094607  2981.249173  3018.887777   \n",
            "min              2000-01-01 00:00:00  1000.050000   954.520000  1012.130000   \n",
            "25%              2002-01-19 18:00:00  1994.982500  1997.425000  2035.952500   \n",
            "50%              2004-02-08 12:00:00  2970.780000  2977.180000  3006.520000   \n",
            "75%              2006-02-27 06:00:00  3974.690000  3982.082500  4015.217500   \n",
            "max              2008-03-18 00:00:00  4998.230000  5034.130000  5076.190000   \n",
            "std                              NaN  1151.862689  1151.783841  1151.683485   \n",
            "\n",
            "        Daily Low  Trading Volume  GDP Growth (%)  Inflation Rate (%)  \\\n",
            "count  3000.00000    3.000000e+03     3000.000000         3000.000000   \n",
            "mean   2944.32975    5.033864e+08        2.608903            5.096830   \n",
            "min     917.17000    1.636024e+06       -5.000000            0.010000   \n",
            "25%    1955.39750    2.545224e+08       -1.012500            2.607500   \n",
            "50%    2939.24500    5.033710e+08        2.725000            5.110000   \n",
            "75%    3934.08750    7.537963e+08        6.242500            7.600000   \n",
            "max    4977.06000    9.999771e+08       10.000000           10.000000   \n",
            "std    1151.83490    2.859004e+08        4.287337            2.910513   \n",
            "\n",
            "       Unemployment Rate (%)  Interest Rate (%)  ...  Forex USD/EUR  \\\n",
            "count            3000.000000        3000.000000  ...    3000.000000   \n",
            "mean                8.663787           5.218237  ...       1.146113   \n",
            "min                 2.000000           0.500000  ...       0.800000   \n",
            "25%                 5.450000           2.890000  ...       0.980000   \n",
            "50%                 8.710000           5.250000  ...       1.140000   \n",
            "75%                11.882500           7.492500  ...       1.320000   \n",
            "max                15.000000          10.000000  ...       1.500000   \n",
            "std                 3.737536           2.726115  ...       0.201128   \n",
            "\n",
            "       Forex USD/JPY  Crude Oil Price (USD per Barrel)  \\\n",
            "count    3000.000000                       3000.000000   \n",
            "mean      115.115233                         85.539953   \n",
            "min        80.010000                         20.040000   \n",
            "25%        98.267500                         52.590000   \n",
            "50%       114.795000                         85.080000   \n",
            "75%       132.455000                        119.150000   \n",
            "max       149.960000                        149.870000   \n",
            "std        20.111351                         37.847063   \n",
            "\n",
            "       Gold Price (USD per Ounce)  Real Estate Index  \\\n",
            "count                 3000.000000        3000.000000   \n",
            "mean                  1655.167877         300.554457   \n",
            "min                    800.160000         100.130000   \n",
            "25%                   1226.737500         202.370000   \n",
            "50%                   1666.060000         299.885000   \n",
            "75%                   2080.730000         399.137500   \n",
            "max                   2499.660000         499.920000   \n",
            "std                    492.177706         114.601328   \n",
            "\n",
            "       Retail Sales (Billion USD)  Bankruptcy Rate (%)  \\\n",
            "count                 3000.000000          3000.000000   \n",
            "mean                  5099.546667             5.007413   \n",
            "min                    107.000000             0.010000   \n",
            "25%                   2503.750000             2.570000   \n",
            "50%                   5123.500000             5.060000   \n",
            "75%                   7616.250000             7.482500   \n",
            "max                   9998.000000            10.000000   \n",
            "std                   2898.714108             2.866466   \n",
            "\n",
            "       Mergers & Acquisitions Deals  Venture Capital Funding (Billion USD)  \\\n",
            "count                   3000.000000                            3000.000000   \n",
            "mean                      24.598667                              49.955197   \n",
            "min                        0.000000                               0.100000   \n",
            "25%                       12.000000                              25.762500   \n",
            "50%                       25.000000                              49.840000   \n",
            "75%                       37.000000                              74.825000   \n",
            "max                       49.000000                              99.990000   \n",
            "std                       14.301344                              28.722592   \n",
            "\n",
            "       Consumer Spending (Billion USD)  \n",
            "count                      3000.000000  \n",
            "mean                       7551.278000  \n",
            "min                         101.000000  \n",
            "25%                        3950.750000  \n",
            "50%                        7610.000000  \n",
            "75%                       11148.750000  \n",
            "max                       14990.000000  \n",
            "std                        4203.705678  \n",
            "\n",
            "[8 rows x 23 columns]\n"
          ]
        }
      ]
    },
    {
      "cell_type": "code",
      "source": [
        "df['Stock Index'] = df['Stock Index'].str.strip().str.title()\n",
        "print(\"After stripping whitespace and title-casing 'Stock Index':\")\n",
        "print(df['Stock Index'])\n",
        "print(\"\\n\")"
      ],
      "metadata": {
        "colab": {
          "base_uri": "https://localhost:8080/"
        },
        "id": "N1Sgm9X-_l4E",
        "outputId": "8d59c740-97d1-4f09-ba9d-63c5477130fb"
      },
      "execution_count": null,
      "outputs": [
        {
          "output_type": "stream",
          "name": "stdout",
          "text": [
            "After stripping whitespace and title-casing 'Stock Index':\n",
            "0       Dow Jones\n",
            "1         S&P 500\n",
            "2       Dow Jones\n",
            "3       Dow Jones\n",
            "4         S&P 500\n",
            "          ...    \n",
            "2995    Dow Jones\n",
            "2996      S&P 500\n",
            "2997      S&P 500\n",
            "2998       Nasdaq\n",
            "2999       Nasdaq\n",
            "Name: Stock Index, Length: 3000, dtype: object\n",
            "\n",
            "\n"
          ]
        }
      ]
    },
    {
      "cell_type": "code",
      "source": [
        "before = len(df)\n",
        "df = df.drop_duplicates(keep='first')\n",
        "after = len(df)\n",
        "print(f\"After removing duplicate rows: dropped {before - after} rows\")\n",
        "print(df.head())\n",
        "print(\"\\n\")\n",
        "print(\"\\n🔹 Missing Values in Each Column:\")\n",
        "print(df.isnull().sum())"
      ],
      "metadata": {
        "colab": {
          "base_uri": "https://localhost:8080/"
        },
        "id": "GFUzzfkJ_mXA",
        "outputId": "d4a3b7e5-8ddc-4328-e10e-43af60e72c95"
      },
      "execution_count": null,
      "outputs": [
        {
          "output_type": "stream",
          "name": "stdout",
          "text": [
            "After removing duplicate rows: dropped 0 rows\n",
            "        Date Stock Index  Open Price  Close Price  Daily High  Daily Low  \\\n",
            "0 2000-01-01   Dow Jones     2128.75      2138.48     2143.70    2100.55   \n",
            "1 2000-01-02     S&P 500     2046.82      2036.18     2082.83    2009.53   \n",
            "2 2000-01-03   Dow Jones     1987.92      1985.26     2022.28    1978.37   \n",
            "3 2000-01-04   Dow Jones     4625.02      4660.47     4665.26    4595.46   \n",
            "4 2000-01-05     S&P 500     1998.18      1982.18     2044.31    1966.44   \n",
            "\n",
            "   Trading Volume  GDP Growth (%)  Inflation Rate (%)  Unemployment Rate (%)  \\\n",
            "0         2670411           -0.37                6.06                   6.10   \n",
            "1       690220415            3.19                4.95                   6.62   \n",
            "2       315284661            5.54                9.13                   2.60   \n",
            "3        13098297           10.00                3.77                   2.20   \n",
            "4       385306746            1.53                2.20                   8.20   \n",
            "\n",
            "   ...  Forex USD/EUR  Forex USD/JPY  Crude Oil Price (USD per Barrel)  \\\n",
            "0  ...           1.04         119.87                             47.20   \n",
            "1  ...           1.00          98.22                             52.84   \n",
            "2  ...           0.83          80.13                             78.80   \n",
            "3  ...           0.95         149.15                             28.18   \n",
            "4  ...           1.43         113.71                             92.20   \n",
            "\n",
            "   Gold Price (USD per Ounce)  Real Estate Index  Retail Sales (Billion USD)  \\\n",
            "0                     1052.34             390.23                        2229   \n",
            "1                     1957.73             346.23                        4156   \n",
            "2                     2339.49             439.46                         340   \n",
            "3                     1308.54             213.07                        8456   \n",
            "4                     2210.08             405.49                        1596   \n",
            "\n",
            "   Bankruptcy Rate (%)  Mergers & Acquisitions Deals  \\\n",
            "0                 2.12                             3   \n",
            "1                 1.40                            21   \n",
            "2                 0.79                            48   \n",
            "3                 4.22                            16   \n",
            "4                 2.21                            34   \n",
            "\n",
            "   Venture Capital Funding (Billion USD)  Consumer Spending (Billion USD)  \n",
            "0                                  76.64                             4589  \n",
            "1                                   5.67                            10101  \n",
            "2                                  39.43                            13665  \n",
            "3                                  12.83                             5192  \n",
            "4                                  86.37                            10688  \n",
            "\n",
            "[5 rows x 24 columns]\n",
            "\n",
            "\n",
            "\n",
            "🔹 Missing Values in Each Column:\n",
            "Date                                     0\n",
            "Stock Index                              0\n",
            "Open Price                               0\n",
            "Close Price                              0\n",
            "Daily High                               0\n",
            "Daily Low                                0\n",
            "Trading Volume                           0\n",
            "GDP Growth (%)                           0\n",
            "Inflation Rate (%)                       0\n",
            "Unemployment Rate (%)                    0\n",
            "Interest Rate (%)                        0\n",
            "Consumer Confidence Index                0\n",
            "Government Debt (Billion USD)            0\n",
            "Corporate Profits (Billion USD)          0\n",
            "Forex USD/EUR                            0\n",
            "Forex USD/JPY                            0\n",
            "Crude Oil Price (USD per Barrel)         0\n",
            "Gold Price (USD per Ounce)               0\n",
            "Real Estate Index                        0\n",
            "Retail Sales (Billion USD)               0\n",
            "Bankruptcy Rate (%)                      0\n",
            "Mergers & Acquisitions Deals             0\n",
            "Venture Capital Funding (Billion USD)    0\n",
            "Consumer Spending (Billion USD)          0\n",
            "dtype: int64\n"
          ]
        }
      ]
    },
    {
      "cell_type": "code",
      "source": [
        "print(\"\\n🔹 Unique Values Per Column:\")\n",
        "print(df.nunique())\n",
        "print(\"\\n🔹 Most Common Values in Stock Index:\")\n",
        "print(df['Stock Index'].value_counts().head(10))"
      ],
      "metadata": {
        "colab": {
          "base_uri": "https://localhost:8080/"
        },
        "id": "bl5EzKKP_a9I",
        "outputId": "d02b69e8-1974-466f-dc71-b007cbb3f69a"
      },
      "execution_count": null,
      "outputs": [
        {
          "output_type": "stream",
          "name": "stdout",
          "text": [
            "\n",
            "🔹 Unique Values Per Column:\n",
            "Date                                     3000\n",
            "Stock Index                                 3\n",
            "Open Price                               2987\n",
            "Close Price                              2981\n",
            "Daily High                               2994\n",
            "Daily Low                                2992\n",
            "Trading Volume                           3000\n",
            "GDP Growth (%)                           1312\n",
            "Inflation Rate (%)                        959\n",
            "Unemployment Rate (%)                    1169\n",
            "Interest Rate (%)                         915\n",
            "Consumer Confidence Index                  70\n",
            "Government Debt (Billion USD)            2850\n",
            "Corporate Profits (Billion USD)          2208\n",
            "Forex USD/EUR                              71\n",
            "Forex USD/JPY                            2414\n",
            "Crude Oil Price (USD per Barrel)         2667\n",
            "Gold Price (USD per Ounce)               2972\n",
            "Real Estate Index                        2887\n",
            "Retail Sales (Billion USD)               2582\n",
            "Bankruptcy Rate (%)                       952\n",
            "Mergers & Acquisitions Deals               50\n",
            "Venture Capital Funding (Billion USD)    2596\n",
            "Consumer Spending (Billion USD)          2734\n",
            "dtype: int64\n",
            "\n",
            "🔹 Most Common Values in Stock Index:\n",
            "Stock Index\n",
            "S&P 500      1036\n",
            "Nasdaq       1007\n",
            "Dow Jones     957\n",
            "Name: count, dtype: int64\n"
          ]
        }
      ]
    },
    {
      "cell_type": "code",
      "source": [
        "plt.figure(figsize=(10, 4))\n",
        "sns.histplot(df['Close Price'], bins=30, kde=True)\n",
        "plt.title(\"Close Price Distribution\")\n",
        "plt.xlabel(\"Close Price\")\n",
        "plt.ylabel(\"Frequency\")\n",
        "plt.grid(True)\n",
        "plt.show()"
      ],
      "metadata": {
        "colab": {
          "base_uri": "https://localhost:8080/",
          "height": 375
        },
        "id": "gKkIuRFY_be_",
        "outputId": "e57d860b-f182-4ff7-cd22-e06cadc0d9d4"
      },
      "execution_count": null,
      "outputs": [
        {
          "output_type": "display_data",
          "data": {
            "text/plain": [
              "<Figure size 1000x400 with 1 Axes>"
            ],
            "image/png": "[encoded data removed]"
          },
          "metadata": {}
        }
      ]
    },
    {
      "cell_type": "code",
      "metadata": {
        "colab": {
          "base_uri": "https://localhost:8080/"
        },
        "id": "86839c97",
        "outputId": "52062a43-50ac-4a05-f5c5-ad7b0116b7d7"
      },
      "source": [
        "df.to_csv('cleaned_finance_economics_dataset.csv', index=False)\n",
        "print(\"Cleaned dataset saved to 'cleaned_finance_economics_dataset.csv'\")"
      ],
      "execution_count": 25,
      "outputs": [
        {
          "output_type": "stream",
          "name": "stdout",
          "text": [
            "Cleaned dataset saved to 'cleaned_finance_economics_dataset.csv'\n"
          ]
        }
      ]
    },
    {
      "cell_type": "code",
      "metadata": {
        "colab": {
          "base_uri": "https://localhost:8080/",
          "height": 17
        },
        "id": "9883296f",
        "outputId": "3f136208-b8aa-450a-a1b5-72d27808db21"
      },
      "source": [
        "from google.colab import files\n",
        "\n",
        "files.download('cleaned_finance_economics_dataset.csv')"
      ],
      "execution_count": 26,
      "outputs": [
        {
          "output_type": "display_data",
          "data": {
            "text/plain": [
              "<IPython.core.display.Javascript object>"
            ],
            "application/javascript": [
              "\n",
              "    async function download(id, filename, size) {\n",
              "      if (!google.colab.kernel.accessAllowed) {\n",
              "        return;\n",
              "      }\n",
              "      const div = document.createElement('div');\n",
              "      const label = document.createElement('label');\n",
              "      label.textContent = `Downloading \"${filename}\": `;\n",
              "      div.appendChild(label);\n",
              "      const progress = document.createElement('progress');\n",
              "      progress.max = size;\n",
              "      div.appendChild(progress);\n",
              "      document.body.appendChild(div);\n",
              "\n",
              "      const buffers = [];\n",
              "      let downloaded = 0;\n",
              "\n",
              "      const channel = await google.colab.kernel.comms.open(id);\n",
              "      // Send a message to notify the kernel that we're ready.\n",
              "      channel.send({})\n",
              "\n",
              "      for await (const message of channel.messages) {\n",
              "        // Send a message to notify the kernel that we're ready.\n",
              "        channel.send({})\n",
              "        if (message.buffers) {\n",
              "          for (const buffer of message.buffers) {\n",
              "            buffers.push(buffer);\n",
              "            downloaded += buffer.byteLength;\n",
              "            progress.value = downloaded;\n",
              "          }\n",
              "        }\n",
              "      }\n",
              "      const blob = new Blob(buffers, {type: 'application/binary'});\n",
              "      const a = document.createElement('a');\n",
              "      a.href = window.URL.createObjectURL(blob);\n",
              "      a.download = filename;\n",
              "      div.appendChild(a);\n",
              "      a.click();\n",
              "      div.remove();\n",
              "    }\n",
              "  "
            ]
          },
          "metadata": {}
        },
        {
          "output_type": "display_data",
          "data": {
            "text/plain": [
              "<IPython.core.display.Javascript object>"
            ],
            "application/javascript": [
              "download(\"download_067f4f0c-defa-46dd-aa20-8c344f5b5457\", \"cleaned_finance_economics_dataset.csv\", 466100)"
            ]
          },
          "metadata": {}
        }
      ]
    }
  ]
}